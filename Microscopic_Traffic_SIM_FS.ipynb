{
 "cells": [
  {
   "cell_type": "markdown",
   "metadata": {},
   "source": [
    "# Microscopic traffic simulation using `F#`\n",
    "------\n",
    "![:height=\"36px\" width=\"36px\"](https://cdn-images-1.medium.com/max/1500/1*pBXdKxuvv5h-zBTioDE1PQ.jpeg)\n",
    "\n",
    "F# is a pragmatic, functional first, multi-paradigm language. It shines in modelling real life situations. Therefore it is a very good choice when doing simulations.\n",
    "\n",
    "This notebook presents an approach to do microscoping trafffic simulation based on this paper https://nptel.ac.in/courses/105101008/downloads/cete_16.pdf \n",
    "\n"
   ]
  },
  {
   "cell_type": "markdown",
   "metadata": {},
   "source": [
    "The generation of vehicles using negative exponential distribution is demonstrated here. The probability distribution function is given as follows.\n",
    "\n",
    "## $$f(x) = \\lambda e^{-\\lambda x}$$\n",
    "The following equation is reprsented by the function `f(x)` in the next cell"
   ]
  },
  {
   "cell_type": "code",
   "execution_count": null,
   "metadata": {},
   "outputs": [],
   "source": [
    "let lambda = 15. //λ = 900/60 = 15 vehicle/min.\n",
    "let f x = lambda * exp(-lambda * x)"
   ]
  },
  {
   "cell_type": "code",
   "execution_count": null,
   "metadata": {},
   "outputs": [],
   "source": [
    "open System\n",
    "let mu = 4.//μ = 1(900/3600) = 4sec"
   ]
  },
  {
   "cell_type": "markdown",
   "metadata": {},
   "source": [
    "Calculate the headways and then estimate the cumulative headways. The calculations are given by the following equation\n",
    "Where `R` is a random number between 0 and 1"
   ]
  },
  {
   "cell_type": "markdown",
   "metadata": {},
   "source": [
    "## $$X = \\mu (-log_e R)$$"
   ]
  },
  {
   "cell_type": "code",
   "execution_count": null,
   "metadata": {},
   "outputs": [],
   "source": [
    "//This is how we can generate X\n",
    "let X  = mu * (- log ((new Random()).NextDouble()))"
   ]
  },
  {
   "cell_type": "markdown",
   "metadata": {},
   "source": [
    "In a similar way, the vehicular arrival pattern can be modeled using Poisson’s distribution. The probability mass function is given as:"
   ]
  },
  {
   "cell_type": "markdown",
   "metadata": {},
   "source": [
    "## $$p(x)=\\frac{\\lambda^{x}e^{-\\lambda}}{x!}$$"
   ]
  },
  {
   "cell_type": "markdown",
   "metadata": {},
   "source": [
    "The following recursive function defines the factorial calculation for a given integer. Note that it uses pattern matching feature of F#"
   ]
  },
  {
   "cell_type": "code",
   "execution_count": 5,
   "metadata": {},
   "outputs": [],
   "source": [
    "let rec factorial x  = \n",
    "   match x with \n",
    "   | 0 -> 1\n",
    "   | 1 -> 1\n",
    "   | _ -> x * factorial (x - 1) \n"
   ]
  },
  {
   "cell_type": "code",
   "execution_count": 6,
   "metadata": {},
   "outputs": [],
   "source": [
    "//Poisson's distribution is defined by the following function\n",
    "let p x = \n",
    "    let numerator = (exp(-lambda) * (lambda ** (float)x))\n",
    "    let denominator = factorial x\n",
    "    numerator/float denominator"
   ]
  },
  {
   "cell_type": "code",
   "execution_count": null,
   "metadata": {},
   "outputs": [],
   "source": [
    "p 5"
   ]
  },
  {
   "cell_type": "code",
   "execution_count": 8,
   "metadata": {},
   "outputs": [
    {
     "data": {
      "text/plain": [
       "4.588534808e-06"
      ]
     },
     "execution_count": 8,
     "metadata": {},
     "output_type": "execute_result"
    }
   ],
   "source": [
    "p 1"
   ]
  },
  {
   "cell_type": "code",
   "execution_count": null,
   "metadata": {},
   "outputs": [],
   "source": [
    "p -1"
   ]
  },
  {
   "cell_type": "code",
   "execution_count": null,
   "metadata": {},
   "outputs": [],
   "source": [
    "p 2"
   ]
  },
  {
   "cell_type": "markdown",
   "metadata": {},
   "source": [
    "The following formula parameterizes calculation of Headway (`X`)"
   ]
  },
  {
   "cell_type": "code",
   "execution_count": null,
   "metadata": {},
   "outputs": [],
   "source": [
    "let X_ (R:double) = mu * (- log R) "
   ]
  },
  {
   "cell_type": "code",
   "execution_count": null,
   "metadata": {},
   "outputs": [],
   "source": [
    "X_ 0.73 //An example call for a random number (See page # 7)"
   ]
  },
  {
   "cell_type": "code",
   "execution_count": null,
   "metadata": {},
   "outputs": [],
   "source": [
    "//Generating Random numbers efficiently (prior to generate the Microscopic Traffic Simulation)\n",
    "let randoms : System.Collections.Generic.List<float>   = new System.Collections.Generic.List<float>()\n",
    "for i in [1 .. 40] do \n",
    "    randoms.Add((new Random()).NextDouble())\n",
    "    System.Threading.Thread.Sleep(100)\n",
    "printfn(\"Done\")"
   ]
  },
  {
   "cell_type": "code",
   "execution_count": null,
   "metadata": {},
   "outputs": [],
   "source": [
    "randoms"
   ]
  },
  {
   "cell_type": "code",
   "execution_count": null,
   "metadata": {},
   "outputs": [],
   "source": [
    "#load \"XPlot.Plotly.fsx\""
   ]
  },
  {
   "cell_type": "code",
   "execution_count": null,
   "metadata": {},
   "outputs": [],
   "source": [
    "open XPlot.Plotly"
   ]
  },
  {
   "cell_type": "code",
   "execution_count": null,
   "metadata": {},
   "outputs": [],
   "source": [
    "let data = randoms |> Seq.map (fun r -> (r, X_ r)) //Calculating the data to be used for checking the model of the simulation"
   ]
  },
  {
   "cell_type": "code",
   "execution_count": null,
   "metadata": {},
   "outputs": [],
   "source": [
    "data"
   ]
  },
  {
   "cell_type": "code",
   "execution_count": null,
   "metadata": {},
   "outputs": [],
   "source": [
    "//Attempting to plot the negagive distribution (that is being used to simulate vehicle arrival)\n",
    "data |> Chart.Column |> Chart.WithTitle \"Calculated Headways\""
   ]
  },
  {
   "cell_type": "markdown",
   "metadata": {},
   "source": [
    "Calculating arrival times for all generated/predicted vehicles arrival. "
   ]
  },
  {
   "cell_type": "code",
   "execution_count": null,
   "metadata": {},
   "outputs": [],
   "source": [
    "let arrivalTimes = new System.Collections.Generic.List<float>()\n",
    "for x in data do \n",
    "    arrivalTimes.Add(snd x)"
   ]
  },
  {
   "cell_type": "code",
   "execution_count": null,
   "metadata": {},
   "outputs": [],
   "source": [
    "arrivalTimes"
   ]
  },
  {
   "cell_type": "markdown",
   "metadata": {},
   "source": [
    "Cumulative arrival times for all the vehicles are calculated below"
   ]
  },
  {
   "cell_type": "code",
   "execution_count": null,
   "metadata": {},
   "outputs": [],
   "source": [
    "let mutable foldedTime = 0.0\n",
    "let arrivals = new System.Collections.Generic.List<float>()\n",
    "for t in arrivalTimes do \n",
    "   foldedTime <- foldedTime + t\n",
    "   arrivals.Add(foldedTime)\n",
    "arrivals"
   ]
  },
  {
   "cell_type": "code",
   "execution_count": null,
   "metadata": {},
   "outputs": [],
   "source": [
    "arrivals"
   ]
  },
  {
   "cell_type": "code",
   "execution_count": null,
   "metadata": {},
   "outputs": [],
   "source": [
    "arrivals |> Chart.Column |> Chart.WithTitle \"Simulated arrival time for vehicles\" \n",
    "         "
   ]
  },
  {
   "cell_type": "code",
   "execution_count": null,
   "metadata": {},
   "outputs": [],
   "source": [
    "//Type to represent a simulated row in \n",
    "type SimRow = {VehicleNumber: int; R: float; X : float; ArrivalTime:float}"
   ]
  },
  {
   "cell_type": "code",
   "execution_count": null,
   "metadata": {},
   "outputs": [],
   "source": [
    "//The simulation as a projection of sequence of type \"SimRow\"\n",
    "randoms |> Seq.mapi (fun index r -> {VehicleNumber = index; R = r; X = (X_ r); ArrivalTime = arrivalTimes.[index] })"
   ]
  },
  {
   "cell_type": "markdown",
   "metadata": {},
   "source": [
    "### Vehicle arrivals using Negative exponential distribution"
   ]
  },
  {
   "cell_type": "code",
   "execution_count": null,
   "metadata": {},
   "outputs": [],
   "source": [
    "//Wrapping the generation of simulated rows in a function \n",
    "let getSimRows(nums:System.Collections.Generic.List<float>)=\n",
    "   let mutable cumulativeTime = 0.0\n",
    "   let arrivalTimes = new System.Collections.Generic.List<float>()\n",
    "   for i in 0 .. nums.Count-1 do \n",
    "       let part = X_ nums.[i]\n",
    "       cumulativeTime <- cumulativeTime  + part\n",
    "       arrivalTimes.Add(cumulativeTime)\n",
    "  \n",
    "   nums|> Seq.mapi (fun index r -> {VehicleNumber = index; R = r; X = (X_ r); ArrivalTime = arrivalTimes.[index] })\n",
    "   "
   ]
  },
  {
   "cell_type": "code",
   "execution_count": null,
   "metadata": {},
   "outputs": [],
   "source": [
    "printfn \"%A\" (getSimRows randoms)"
   ]
  },
  {
   "cell_type": "code",
   "execution_count": null,
   "metadata": {},
   "outputs": [],
   "source": [
    "printfn \"Vehicle Number                 | R            |X             |ArrivalTime(sec)\"\n",
    "let results = List.ofSeq( getSimRows randoms)\n",
    "for i in 0 .. randoms.Count-1 do \n",
    "    printfn \"%s                             | %f     |%f      |%f\" ((results.[i].VehicleNumber + 1).ToString(\"00\")) \n",
    "                                             (results.[i].R)  (results.[i].X)  (results.[i].ArrivalTime) "
   ]
  },
  {
   "cell_type": "markdown",
   "metadata": {},
   "source": [
    "## Simulated Model Calibration\n",
    "\n",
    "The activity of specifying data to the model that describes traffic operations and other features\n",
    "which are site specific is called calibration of the model. In other words, calibration is the\n",
    "process of quantifying model parameters using real-world data. This data may take the form\n",
    "of scalar elements and of statistical distributions. Calibration is a major challenge during the\n",
    "implementation stage of any model. The commonly used methods of calibration are regression,\n",
    "optimization, error determination, trajectory analysis etc. A brief description about various\n",
    "errors and their significance is presented in this section\n",
    "\n",
    "The optimization method of calibration is also explained using the following example problem.\n",
    "\n",
    "### Numerical Example\n",
    "The parameters obtained in GM car-following model simulation are given in Table below. Field\n",
    "observed values of acceleration of follower is also given. Calibrate the model by finding the value\n",
    "of α. Assume l=1 and m=0. Use optimization method to solve the problem.\n",
    "\n",
    "Solution \n",
    "Step 1: Formulate the objective function (z).\n",
    "Minimize \n",
    "\n",
    "## $$z = \\sum_{i=1}^4({a_i}^{obs} - {a_i}^{cal})^2$$\n",
    "\n",
    "\n",
    "| Observed Acceleration (aobs)        | Velocity difference dv           | Distance headway dx  |\n",
    "| ------------- |:-------------:| -----:|\n",
    "0.23| 1.5| 29.13\n",
    "0.46| 1.88| 29.97\n",
    "0.67| 1.16| 30.73\n",
    "0.82| 0.32| 31.10\n"
   ]
  },
  {
   "cell_type": "markdown",
   "metadata": {},
   "source": [
    "\n",
    "### Root Mean Square Error"
   ]
  },
  {
   "cell_type": "markdown",
   "metadata": {},
   "source": [
    "## $$RMSE = \\sqrt{\\frac{1}{N}\\sum_{i=1}N(x_i-y_i)^2 }$$"
   ]
  },
  {
   "cell_type": "code",
   "execution_count": null,
   "metadata": {},
   "outputs": [],
   "source": [
    "let rmse (xs : float list) (ys:float list) = \n",
    "    let N =  xs |> List.length |> float\n",
    "    let squared_diff = List.zip xs ys \n",
    "                      |> List.map (fun pair -> float(N*(fst pair - snd pair)) ** 2.) \n",
    "                      |> List.sum\n",
    "    sqrt(squared_diff/(float N))"
   ]
  },
  {
   "cell_type": "markdown",
   "metadata": {},
   "source": [
    "## $$RMSNE = \\sqrt{\\frac{1}{N}\\sum_{i=1}N(\\frac{x_i-y_i}{y_i})^2}$$"
   ]
  },
  {
   "cell_type": "markdown",
   "metadata": {},
   "source": [
    "### Mean Error "
   ]
  },
  {
   "cell_type": "markdown",
   "metadata": {},
   "source": [
    "## $$ME = {\\frac{1}{N}\\sum_{i=1}N(x_i-y_i)}$$"
   ]
  },
  {
   "cell_type": "code",
   "execution_count": null,
   "metadata": {},
   "outputs": [],
   "source": [
    "let mean_error (xs:float list) (ys:float list) = \n",
    "  let N = float xs.Length\n",
    "  let num  = List.zip xs ys \n",
    "                 |> List.map (fun pair -> N * (fst pair - snd pair)) \n",
    "                 |> List.sum \n",
    "  float num/float xs.Length \n",
    "\n",
    "mean_error [1.3;2.2;4.24;5.2][1.2;4.2;5.6;2.1]"
   ]
  },
  {
   "cell_type": "markdown",
   "metadata": {},
   "source": [
    "## Mean Normalized Error"
   ]
  },
  {
   "cell_type": "markdown",
   "metadata": {},
   "source": [
    "## $$MNE = {\\frac{1}{N}\\sum_{i=1}N(\\frac{x_i-y_i}{y_i})}$$"
   ]
  },
  {
   "cell_type": "markdown",
   "metadata": {},
   "source": [
    "The above error measures are useful when applied separately to measurements at each location instead of to all measurements jointly. They indicate the existence of systematic bias in terms of under or over prediction by the simulation model. Taking into account that the series of measurements and simulated values can be collected at regular time intervals, it becomes obvious that they can be interpreted as time series and, therefore, used to determine how close the simulated and the observed values are. Thus it can be determined that how similar both time series are. On the other hand, the use of aggregated values to validate a simulation seems contradictory if one takes into account that it is dynamic in nature, and thus time dependent. Theil deﬁned a set of indices aimed at this goal and these indices have been widely used for that purpose. The ﬁrst index is Theil’s indicator, U (also called Theil’s inequality coeﬃcient), which provides a normalized measure of the relative error that reduces the impact of large errors: \n",
    "\n",
    "\n",
    "The global index U is bounded, 0 ≤ U ≤ 1, with U = 0 for a perfect ﬁt and xi = yi for i = 1 to N, between observed and simulated values. For U ≤ 0.2, the simulated series can be accepted as replicating the observed series acceptably well. The closer the values are to 0, the better will be the model. For values greater than 0.2, the simulated series is rejected.\n"
   ]
  },
  {
   "cell_type": "markdown",
   "metadata": {},
   "source": [
    "## Theil's indicator ( a.k.a Theil's inequality coefficient)\n",
    "### $$ U = \\frac{\\sqrt{\\frac{1}{N}\\sum_{i=1}N(x_i-y_i)^2}}{\\sqrt{\\frac{1}{N}\\sum_{i=1}N(x_i)^2} +\\sqrt{\\frac{1}{N}\\sum_{i=1}N(y_i)^2} }$$"
   ]
  },
  {
   "cell_type": "code",
   "execution_count": null,
   "metadata": {},
   "outputs": [],
   "source": [
    "\n",
    "let theils (xs:float list) (ys:float list) = \n",
    "    let N = float xs.Length \n",
    "    let sqr x = x * x // Local function\n",
    "    let numerator = rmse xs ys \n",
    "    \n",
    "    //Breaking down the denominator into left and right\n",
    "    let left = xs |> List.map (fun t -> N* t**2.) |> List.average\n",
    "    let right = ys |> List.map (fun t -> N* t**2.) |> List.average \n",
    "    \n",
    "    let denominator  = sqrt left + sqrt right \n",
    "    numerator/denominator"
   ]
  },
  {
   "cell_type": "code",
   "execution_count": null,
   "metadata": {},
   "outputs": [],
   "source": [
    "theils [1.3;4.3;0.4;5.2] [2.3;4.3;0.4;5.1]"
   ]
  },
  {
   "cell_type": "code",
   "execution_count": null,
   "metadata": {},
   "outputs": [],
   "source": []
  },
  {
   "cell_type": "code",
   "execution_count": null,
   "metadata": {},
   "outputs": [],
   "source": []
  }
 ],
 "metadata": {
  "kernelspec": {
   "display_name": "F#",
   "language": "fsharp",
   "name": "ifsharp"
  },
  "language": "fsharp",
  "language_info": {
   "codemirror_mode": "",
   "file_extension": ".fs",
   "mimetype": "text/x-fsharp",
   "name": "fsharp",
   "nbconvert_exporter": "",
   "pygments_lexer": "",
   "version": "4.3.1.0"
  }
 },
 "nbformat": 4,
 "nbformat_minor": 2
}
